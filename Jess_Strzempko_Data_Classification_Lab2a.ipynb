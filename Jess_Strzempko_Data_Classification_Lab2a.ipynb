{
  "nbformat": 4,
  "nbformat_minor": 0,
  "metadata": {
    "colab": {
      "name": "Jess_Strzempko_Data-Classification_Lab2a.ipynb",
      "provenance": [],
      "collapsed_sections": [],
      "authorship_tag": "ABX9TyPJ9VncuZj8mH0eLMsXAv6/",
      "include_colab_link": true
    },
    "kernelspec": {
      "name": "python3",
      "display_name": "Python 3"
    }
  },
  "cells": [
    {
      "cell_type": "markdown",
      "metadata": {
        "id": "view-in-github",
        "colab_type": "text"
      },
      "source": [
        "<a href=\"https://colab.research.google.com/github/IDCE-MSGIS/lab2-data-classification-chatbots-jstrzempko/blob/master/Jess_Strzempko_Data_Classification_Lab2a.ipynb\" target=\"_parent\"><img src=\"https://colab.research.google.com/assets/colab-badge.svg\" alt=\"Open In Colab\"/></a>"
      ]
    },
    {
      "cell_type": "markdown",
      "metadata": {
        "id": "R5Aq1Ib8kgAW",
        "colab_type": "text"
      },
      "source": [
        "Jess Strzempko  \n",
        "Created 09.04.20  \n",
        "Python version 3.6.9  \n",
        "IDCE 302 Python Programming  \n",
        "\n",
        "## Lab 2 part a - Data Classification\n",
        "\n",
        "This code evaluates temperature values. It defines a function named feelTemp that uses if, elif, and else statements to decide if a temperature value is hot, warm, cool, or cold. The argument passed in the function is a user-inputted temperature in Fahrenheit. \n",
        "\n",
        "**Inputs:**  \n",
        "\n",
        "* User-inputted temperature value in Fahrenheit\n",
        "\n",
        "**Outputs:**  \n",
        "\n",
        "* Temperature category as a string"
      ]
    },
    {
      "cell_type": "code",
      "metadata": {
        "id": "oi_5pgGeg8NT",
        "colab_type": "code",
        "colab": {}
      },
      "source": [
        "#Define a function named feelTemp \n",
        "#feelTemp takes one input value in Fahrenheit \n",
        "#and returns one of 4 temperature categories as a string\n",
        "#feelTemp itself only uses x as a parameter\n",
        "\n",
        "def feelTemp(x):\n",
        "  if x >= 100:\n",
        "    print(\"It is hot.\")\n",
        "  elif 70 <= x < 100:\n",
        "    print(\"It is warm.\")\n",
        "  elif 32 <= x < 70:\n",
        "    print(\"It is cool.\")\n",
        "  else:\n",
        "    print(\"It is cold.\")\n",
        "\n",
        "#Create a user input statement for x\n",
        "#User enters their temperature in Fahrenheit\n",
        "#the script uses float to convert the inputted temperature from a string to a float value\n",
        "#this way, non-integer numbers can also be run through the function\n",
        "x = float(input(\"Enter your temperature numerically in Fahrenheit: \"))\n",
        "\n",
        "#Lastly, we call the function feelTemp and provide the user-inputted x as the argument\n",
        "feelTemp(x)"
      ],
      "execution_count": null,
      "outputs": []
    }
  ]
}