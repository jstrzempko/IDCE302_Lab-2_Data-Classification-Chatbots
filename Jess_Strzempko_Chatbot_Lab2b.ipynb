{
  "nbformat": 4,
  "nbformat_minor": 0,
  "metadata": {
    "colab": {
      "name": "Jess_Strzempko_Chatbot_Lab2b.ipynb",
      "provenance": [],
      "collapsed_sections": [],
      "authorship_tag": "ABX9TyM7A3mt5jzaH0qzRMKmCXki",
      "include_colab_link": true
    },
    "kernelspec": {
      "name": "python3",
      "display_name": "Python 3"
    }
  },
  "cells": [
    {
      "cell_type": "markdown",
      "metadata": {
        "id": "view-in-github",
        "colab_type": "text"
      },
      "source": [
        "<a href=\"https://colab.research.google.com/github/IDCE-MSGIS/lab2-data-classification-chatbots-jstrzempko/blob/master/Jess_Strzempko_Chatbot_Lab2b.ipynb\" target=\"_parent\"><img src=\"https://colab.research.google.com/assets/colab-badge.svg\" alt=\"Open In Colab\"/></a>"
      ]
    },
    {
      "cell_type": "markdown",
      "metadata": {
        "id": "x4thVdpPk4Fa",
        "colab_type": "text"
      },
      "source": [
        "Jess Strzempko  \n",
        "Created 09.04.20  \n",
        "Python version 3.6.9  \n",
        "IDCE 302 Python Programming  \n",
        "\n",
        "## Lab 2 part b - Chatbot\n",
        "\n",
        "This code is a chat bot that uses if, elif, and else statements as well as print statements and type conversions to have a conversation with the user. The chat bot takes the form of a time traveler and asks for user answers to its questions which it then incorporates into its responses. Lastly, the time traveler asks about the year and the age of the user and then uses this information to make a comment about the user's generation. \n",
        "\n",
        "\n",
        "**Inputs:**  \n",
        "\n",
        "* User-inputted values:\n",
        "  + User's Name\n",
        "  + Current Year\n",
        "  + User's Home\n",
        "  + User's Age\n",
        "\n",
        "**Outputs:**  \n",
        "\n",
        "* Conversational print statements\n",
        "* A comment from the chat bot about the user's generation"
      ]
    },
    {
      "cell_type": "code",
      "metadata": {
        "id": "D3fNJCdmuLk7",
        "colab_type": "code",
        "colab": {}
      },
      "source": [
        "#A Conversation with a Time Traveler\n",
        "#Initial introduction from the python chatbot/time traveler\n",
        "print(\"Hi! My name is Je$$ and I am a time traveler from the future! What's your name?\")\n",
        "\n",
        "#In response, user needs to enter their name\n",
        "name = input()\n",
        "\n",
        "#The time traveler greets them using the inputted name and asks them for the year\n",
        "print(\"Pleasure to meet you,\", name, \"- Can you tell me what year it is? My time machine malfunctioned and brought me here.\")\n",
        "\n",
        "#User inputs the year and the script converts it from a string to an integer for later use\n",
        "year = int(input())\n",
        "\n",
        "#A simple print statement from the time traveler to continue the conversation\n",
        "print(\"WOW. Ok, I got way off course. And where do you originally hail from?\")\n",
        "\n",
        "#User inputs where they call home\n",
        "home = input()\n",
        "\n",
        "#Time traveler responds with the place the person is from and asks how old the user is\n",
        "print(\"Neato! I've always wanted to visit\", home, \"- I've heard it's beautiful this time of year. Might I ask how old you are?\")\n",
        "\n",
        "#User inputs their age and it is converted from a string to a floating point number\n",
        "age = int(input())\n",
        "\n",
        "#Using the year and age integers, the script calculates what Generation the user is part of\n",
        "#The time traveler then responds with a comment about the user's generation \n",
        "#By using the (year - age) as parameter, the script works for other years outside of 2020\n",
        "if (year - age) >= 1998:\n",
        "  print(\"A member of Gen Z? Truly a privilege to meet you!\")\n",
        "elif 1980 <= (year - age) < 1998:\n",
        "  print(\"Yikes - a Millenial. You all really had it rough!\")\n",
        "elif 1965 <= (year - age) < 1980:\n",
        "  print(\"Generation X - hard workers through and through!\")\n",
        "elif 1945 <= (year - age) < 1965:\n",
        "  print(\"Oof, ok Boomer!\")\n",
        "elif 1928 <= (year - age) < 1945:\n",
        "  print(\"The Silent Generation - bet you thought you were done with economic recessions!\")\n",
        "else:\n",
        "  print(\"That's so far back I can't even remember - you're a historical relic!\")\n",
        "\n",
        "#Closing statement from the time traveler\n",
        "print(\"Omg- Look at the time! It's been nice meeting you, but I've really got to be on my way. Goodbye!\")\n"
      ],
      "execution_count": null,
      "outputs": []
    }
  ]
}